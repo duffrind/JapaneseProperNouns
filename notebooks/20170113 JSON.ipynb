{
 "cells": [
  {
   "cell_type": "code",
   "execution_count": 280,
   "metadata": {
    "collapsed": false
   },
   "outputs": [],
   "source": [
    "import json\n",
    "import collections\n",
    "from urllib.request import urlopen\n",
    "import re\n",
    "import romkan\n",
    "import pickle\n",
    "import os"
   ]
  },
  {
   "cell_type": "code",
   "execution_count": 281,
   "metadata": {
    "collapsed": false
   },
   "outputs": [],
   "source": [
    "def init():\n",
    "    global articles, word_list, list_of_articles, list_of_new_articles\n",
    "    articles = collections.namedtuple('articles', 'title, date, url, text')\n",
    "    word_list = list()\n",
    "    list_of_articles = list()\n",
    "    list_of_new_articles = list()\n",
    "\n",
    "def update():\n",
    "    global articles, word_list, list_of_articles, list_of_new_articles\n",
    "    request = urlopen(\"http://www3.nhk.or.jp/news/easy/news-list.json\")\n",
    "    data = json.loads(request.read().decode('utf-8-sig'))\n",
    "\n",
    "    if os.path.isfile('word_list.p'):\n",
    "        word_list = pickle.load(open('word_list.p', 'rb'))\n",
    "        list_of_articles = pickle.load(open('list_of_articles.p', 'rb'))\n",
    "\n",
    "    for date in data[0].keys():\n",
    "        article = articles(data[0][date][0]['title_with_ruby'], date, 'http://www3.nhk.or.jp/news/easy/'+ data[0][date][0]['news_id'] +'/'+ data[0][date][0]['news_id'] +'.out.json')\n",
    "        if article not in list_of_articles:\n",
    "            list_of_articles.append(article)\n",
    "            list_of_new_articles.append(article)\n",
    "\n",
    "    phrase = ''\n",
    "\n",
    "    for article in list_of_articles:\n",
    "        article_json = json.loads(urlopen(article[2]).read().decode('utf-8-sig')) #loads the json for the article\n",
    "        for pronunciation in article_json['morph']:\n",
    "            furi_list = pronunciation.get('ruby', [dict()])\n",
    "            for furi_dict in furi_list:\n",
    "                furigana = furi_dict.get('r', furi_dict.get('s', ''))\n",
    "                if re.match(u'[\\u3040-\\u309F]+', furigana) != None:\n",
    "                    hiragana = re.match(u'[\\u3040-\\u309F]+', furigana) #hiragana\n",
    "                    if hiragana != None: #check for hiragana\n",
    "                        phrase += hiragana.string\n",
    "                elif phrase != '':\n",
    "                    word_list.append(phrase)\n",
    "                    phrase = ''\n",
    "\n",
    "    pickle.dump(word_list, open(\"word_list.p\", \"wb\"))\n",
    "    pickle.dump(list_of_articles, open(\"list_of_articles.p\", \"wb\"))"
   ]
  },
  {
   "cell_type": "code",
   "execution_count": 282,
   "metadata": {
    "collapsed": false
   },
   "outputs": [],
   "source": [
    "init()"
   ]
  },
  {
   "cell_type": "code",
   "execution_count": 283,
   "metadata": {
    "collapsed": false
   },
   "outputs": [],
   "source": [
    "update()"
   ]
  },
  {
   "cell_type": "code",
   "execution_count": null,
   "metadata": {
    "collapsed": false
   },
   "outputs": [],
   "source": []
  },
  {
   "cell_type": "code",
   "execution_count": null,
   "metadata": {
    "collapsed": true
   },
   "outputs": [],
   "source": []
  }
 ],
 "metadata": {
  "anaconda-cloud": {},
  "kernelspec": {
   "display_name": "Python 3",
   "language": "python",
   "name": "python3"
  },
  "language_info": {
   "codemirror_mode": {
    "name": "ipython",
    "version": 3
   },
   "file_extension": ".py",
   "mimetype": "text/x-python",
   "name": "python",
   "nbconvert_exporter": "python",
   "pygments_lexer": "ipython3",
   "version": "3.5.2"
  }
 },
 "nbformat": 4,
 "nbformat_minor": 0
}
